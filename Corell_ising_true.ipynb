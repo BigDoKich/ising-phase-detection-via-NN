{
 "cells": [
  {
   "cell_type": "code",
   "execution_count": null,
   "metadata": {
    "id": "f5FWSKW8UPxR"
   },
   "outputs": [],
   "source": [
    "import numpy as np\n",
    "import random\n",
    "from matplotlib import pyplot as plt\n",
    "import tensorflow as tf\n",
    "from tensorflow.keras.callbacks import EarlyStopping\n",
    "import time"
   ]
  },
  {
   "cell_type": "code",
   "execution_count": null,
   "metadata": {
    "id": "2GEeJlmHakfC"
   },
   "outputs": [],
   "source": [
    "#Tc = 3.640957 #треугольная решетка\n",
    "Tc = 2.0/np.log(1.+2**0.5) #квадратная решетка"
   ]
  },
  {
   "cell_type": "code",
   "execution_count": null,
   "metadata": {
    "id": "cfaQm79nUtc1"
   },
   "outputs": [],
   "source": [
    "#Инициализация необходимых рофланов\n",
    "size = 10\n",
    "T_ex = 1.0\n",
    "step = 0.05\n",
    "T = T_ex - step\n",
    "T_end = 3.5\n",
    "i = 0\n",
    "number = 60000\n",
    "matrix = np.random.choice([-1, 1], size=(size, size))\n",
    "sequence = np.arange(T, T_end + step, step)\n",
    "d_data = {}\n",
    "energy_data = []\n",
    "temperatures = np.arange(T_ex, T_end + step, step)"
   ]
  },
  {
   "cell_type": "code",
   "execution_count": null,
   "metadata": {
    "id": "r5UWBC5RURNJ"
   },
   "outputs": [],
   "source": [
    "#Функция перевода сырой конфигурации в корреляционную конфигурацию\n",
    "def Corel(matrix):\n",
    "    matrixCorel = np.zeros((matrix.shape[0], matrix.shape[0]))\n",
    "    for i in range(matrix.shape[0]): \n",
    "        for j in range(matrix.shape[0]): \n",
    "            L_2_i = int((i + matrix.shape[0]/2) % matrix.shape[0])\n",
    "            L_2_j = int((j + matrix.shape[0]/2) % matrix.shape[0])\n",
    "            L_i = i % matrix.shape[0]\n",
    "            L_j = j % matrix.shape[0]\n",
    "            matrixCorel[L_i][L_j] = (matrix[L_i][L_j] * matrix[L_2_i][L_j] + matrix[L_i][L_j] * matrix[L_i][L_2_j]) / 2\n",
    "    return matrixCorel"
   ]
  },
  {
   "cell_type": "code",
   "execution_count": null,
   "metadata": {
    "id": "H_dFtMu4UVed"
   },
   "outputs": [],
   "source": [
    "#Функция расчета энергии\n",
    "def ecalc(mas):\n",
    "    summ = 0\n",
    "    for i in range(len(mas)):\n",
    "        for j in range(len(mas) - 1):\n",
    "            summ += mas[i][j] * mas[i][j + 1] + mas.T[i][j] * mas.T[i][j + 1]\n",
    "        summ += mas[i][0] * mas[i][len(mas) - 1] + mas.T[i][0] * mas.T[i][len(mas.T) - 1]\n",
    "\n",
    "    return -summ\n"
   ]
  },
  {
   "cell_type": "code",
   "execution_count": null,
   "metadata": {
    "id": "CHgJXuE8UhZE"
   },
   "outputs": [],
   "source": [
    "# Функция расчета энергии для треугольной решетки\n",
    "def ecalc_triangular(mas):\n",
    "    summ = 0\n",
    "    for i in range(size):\n",
    "        for j in range(size):\n",
    "            summ += mas[i][j] * (mas[i][(j + 1) % size] +\n",
    "                                 mas[(i + 1) % size][j] +\n",
    "                                 mas[(i + 1) % size][(j + 1) % size] +\n",
    "                                 mas[i][(j - 1) % size] +\n",
    "                                 mas[(i - 1) % size][j] +\n",
    "                                 mas[(i - 1) % size][(j - 1) % size])\n",
    "    return -summ / 2 \n"
   ]
  },
  {
   "cell_type": "code",
   "execution_count": null,
   "metadata": {
    "id": "n0QqJooNUeHO"
   },
   "outputs": [],
   "source": [
    "#Алгоритм Метрополиса\n",
    "def mcstep(mas, temper):\n",
    "    seed1 = random.randint(0, size - 1)\n",
    "    seed2 = random.randint(0, size - 1)\n",
    "    energy = ecalc(mas)\n",
    "    # energy = ecalc_triangular(mas) # для получения данных на треугольной решетке\n",
    "\n",
    "    mas[seed1][seed2] *= -1\n",
    "    delta = ecalc(mas) - energy\n",
    "    # delta = ecalc_triangular(mas)\n",
    "\n",
    "    if (delta) <= 0:\n",
    "        pass\n",
    "    else:\n",
    "        W = np.exp((-delta) / temper)\n",
    "        P = random.uniform(0, 1)\n",
    "        if P > W:\n",
    "            mas[seed1][seed2] *= -1\n",
    "            pass\n",
    "        else:\n",
    "            pass\n"
   ]
  },
  {
   "cell_type": "code",
   "execution_count": null,
   "metadata": {
    "id": "gTbBbg4ap1wW"
   },
   "outputs": [],
   "source": [
    "for T in sequence:\n",
    "    T_round = round(T, 5)\n",
    "    i = 0\n",
    "    lattices = []\n",
    "    total_energy = 0\n",
    "    energy = 0\n",
    "    while (i != number):\n",
    "        mcstep(matrix, T_round)\n",
    "        matrixCorel = Corel(np.copy(matrix))\n",
    "        lattices.append(np.copy(matrixCorel))\n",
    "        energy += ecalc(np.copy(matrix), T_round)\n",
    "        i += 1\n",
    "    total_energy = energy / number\n",
    "    matrix = np.random.choice([-1, 1], size=(size, size))\n",
    "    if T >= T_ex:\n",
    "        energy_data.append(total_energy)\n",
    "        d_data[T_round] = lattices"
   ]
  },
  {
   "cell_type": "code",
   "execution_count": null,
   "metadata": {
    "colab": {
     "base_uri": "https://localhost:8080/",
     "height": 472
    },
    "id": "xHwav7CyqgIw",
    "outputId": "26c83987-7fe0-4785-f7ef-ca77efee194f"
   },
   "outputs": [],
   "source": [
    "plt.plot(temperatures, energy_data, marker='o', linestyle='-')\n",
    "\n",
    "plt.title('Зависимость энергии от температуры')\n",
    "plt.xlabel('Температура')\n",
    "plt.ylabel('Энергия')\n",
    "plt.grid(True)\n",
    "\n",
    "plt.show()\n"
   ]
  },
  {
   "cell_type": "code",
   "execution_count": null,
   "metadata": {
    "id": "g_2YgoVf6wEo"
   },
   "outputs": [],
   "source": [
    "def create_dataset(d_data, Tc, train_ratio=0.7):\n",
    "    train_data = []\n",
    "    train_labels = []\n",
    "    test_data = []\n",
    "    test_labels = []\n",
    "\n",
    "    for T, configs in d_data.items():\n",
    "        for config in configs:\n",
    "            if T < Tc:\n",
    "                label = [1, 0]  # ферромагнитная фаза\n",
    "            else:\n",
    "                label = [0, 1]  # парамагнитная фаза\n",
    "\n",
    "            if np.random.rand() < train_ratio:\n",
    "                train_data.append(config)\n",
    "                train_labels.append(label)\n",
    "            else:\n",
    "                test_data.append(config)\n",
    "                test_labels.append(label)\n",
    "\n",
    "    return np.array(train_data), np.array(train_labels), np.array(test_data), np.array(test_labels)"
   ]
  },
  {
   "cell_type": "code",
   "execution_count": null,
   "metadata": {
    "id": "bumm6bB16xrd"
   },
   "outputs": [],
   "source": [
    "input_shape = (size, size)\n",
    "hidden_units = 100\n",
    "output_units = 2 \n",
    "\n",
    "model = tf.keras.Sequential([\n",
    "    tf.keras.layers.Flatten(input_shape=input_shape),\n",
    "    tf.keras.layers.Dense(hidden_units, activation='sigmoid'),\n",
    "    tf.keras.layers.Dropout(0.5),\n",
    "    tf.keras.layers.Dense(output_units, activation='softmax')\n",
    "])"
   ]
  },
  {
   "cell_type": "code",
   "execution_count": null,
   "metadata": {
    "id": "c8CUnz7Na4jF"
   },
   "outputs": [],
   "source": [
    "model.compile(optimizer='adam',\n",
    "              loss='categorical_crossentropy',\n",
    "              metrics=['accuracy'])"
   ]
  },
  {
   "cell_type": "code",
   "execution_count": null,
   "metadata": {
    "id": "i9v15etya-aI"
   },
   "outputs": [],
   "source": [
    "train_data, train_labels, test_data, test_labels = create_dataset(d_data, Tc)"
   ]
  },
  {
   "cell_type": "code",
   "execution_count": null,
   "metadata": {},
   "outputs": [],
   "source": [
    "early_stopping = EarlyStopping(monitor='val_loss', patience=3, restore_best_weights=True)"
   ]
  },
  {
   "cell_type": "code",
   "execution_count": null,
   "metadata": {
    "colab": {
     "base_uri": "https://localhost:8080/"
    },
    "id": "wmwZt_ZpbEF5",
    "outputId": "d8ae9cb3-665f-4747-cdf5-bb525ac992f5"
   },
   "outputs": [],
   "source": [
    "history = model.fit(train_data, train_labels, epochs=32, batch_size=size*size, validation_data=(test_data, test_labels), callbacks=[early_stopping])"
   ]
  },
  {
   "cell_type": "code",
   "execution_count": null,
   "metadata": {
    "colab": {
     "base_uri": "https://localhost:8080/"
    },
    "id": "DaeinE1ibJmu",
    "outputId": "18293f9a-5187-40fe-a386-e3e536441e43"
   },
   "outputs": [],
   "source": [
    "test_loss, test_acc = model.evaluate(test_data, test_labels)\n",
    "print('Test accuracy:', test_acc)"
   ]
  },
  {
   "cell_type": "markdown",
   "metadata": {},
   "source": [
    "# Исследование "
   ]
  },
  {
   "cell_type": "code",
   "execution_count": null,
   "metadata": {
    "id": "HKEn1srVdyaX"
   },
   "outputs": [],
   "source": [
    "start_time = time.time()\n",
    "\n",
    "output_layers = []\n",
    "for T, configs in d_data.items():\n",
    "    configs_flattened = np.concatenate(configs, axis=0).reshape(-1, size, size)\n",
    "    outputs = model.predict(configs_flattened)\n",
    "    average_output_layer = np.mean(outputs, axis=0)\n",
    "    output_layers.append(average_output_layer)\n",
    "end_time = time.time()"
   ]
  },
  {
   "cell_type": "code",
   "execution_count": null,
   "metadata": {},
   "outputs": [],
   "source": [
    "time_ = end_time - start_time\n",
    "print(f\"Время выполнения: {time_:.6f} секунд\")"
   ]
  },
  {
   "cell_type": "code",
   "execution_count": null,
   "metadata": {},
   "outputs": [],
   "source": [
    "plt.figure(figsize=(8, 6))\n",
    "plt.plot(temperatures, averaged_data, 'x')\n",
    "\n",
    "plt.axvline(x=Tc, color='red', linestyle='--')\n",
    "\n",
    "plt.xlabel('Температура')\n",
    "plt.ylabel('Выходной слой')\n",
    "\n",
    "plt.legend(['T < Tc', 'T > Tc', 'Tc'])\n",
    "\n",
    "plt.show()\n"
   ]
  }
 ],
 "metadata": {
  "accelerator": "GPU",
  "colab": {
   "gpuType": "T4",
   "provenance": []
  },
  "kernelspec": {
   "display_name": "tf_env",
   "language": "python",
   "name": "tf_env"
  },
  "language_info": {
   "codemirror_mode": {
    "name": "ipython",
    "version": 3
   },
   "file_extension": ".py",
   "mimetype": "text/x-python",
   "name": "python",
   "nbconvert_exporter": "python",
   "pygments_lexer": "ipython3",
   "version": "3.8.15"
  }
 },
 "nbformat": 4,
 "nbformat_minor": 4
}
